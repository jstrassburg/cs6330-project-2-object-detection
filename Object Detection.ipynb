{
 "cells": [
  {
   "attachments": {},
   "cell_type": "markdown",
   "id": "940d05b3",
   "metadata": {},
   "source": [
    "# Object Detection with YOLO\n",
    "\n",
    "This notebook provides a ready-to-run setup of the You Only Look Once (YOLO) v3 network for object detection. The [YOLO family of models](https://www.cv-foundation.org/openaccess/content_cvpr_2016/html/Redmon_You_Only_Look_CVPR_2016_paper.html) were created by [Joseph Chet Redmon](https://pjreddie.com/).  Training these models requires large data sets like [ImageNet]() and [Microsoft COCO]() and significant compute resources, making it infeasible for most users to train their own models.  Thankfully, the researchers have released the weights of their trained models and the community has developed code that allows these models to be run with frameworks like Pytorch and Tensorflow.  This notebook uses [code](https://github.com/experiencor/keras-yolo3) released under the MIT license by [Huynh Ngoc Anh](https://github.com/experiencor) to run the pre-trained YOLO model in Keras.\n",
    "\n",
    "To use this notebook, you will need to download the YOLOv3 model weights from [https://pjreddie.com/media/files/yolov3.weights](https://pjreddie.com/media/files/yolov3.weights).  Place the `yolov3.weights` file in the same directory as this notebook.\n",
    "\n",
    "You will need to change the `input_image_path` and `output_image_path` parameters."
   ]
  },
  {
   "cell_type": "code",
   "execution_count": 81,
   "id": "4888582e",
   "metadata": {},
   "outputs": [],
   "source": [
    "import cv2\n",
    "import yolov3"
   ]
  },
  {
   "cell_type": "code",
   "execution_count": 82,
   "id": "8b12a597",
   "metadata": {},
   "outputs": [],
   "source": [
    "# Parameters\n",
    "\n",
    "weights_path = \"yolov3.weights\"\n",
    "\n",
    "# Supports .png, .jpg, and .jpeg files\n",
    "filename = 'food'\n",
    "input_image_path = f\"input/{filename}.jpg\"\n",
    "output_image_path = f\"output/{filename}_detected.jpg\"\n",
    "\n",
    "\n",
    "net_h, net_w = 416, 416\n",
    "obj_thresh, nms_thresh = 0.5, 0.45\n",
    "anchors = [[116,90,  156,198,  373,326],  [30,61, 62,45,  59,119], [10,13,  16,30,  33,23]]\n",
    "labels = [\"person\", \"bicycle\", \"car\", \"motorbike\", \"aeroplane\", \"bus\", \"train\", \"truck\", \\\n",
    "          \"boat\", \"traffic light\", \"fire hydrant\", \"stop sign\", \"parking meter\", \"bench\", \\\n",
    "          \"bird\", \"cat\", \"dog\", \"horse\", \"sheep\", \"cow\", \"elephant\", \"bear\", \"zebra\", \"giraffe\", \\\n",
    "          \"backpack\", \"umbrella\", \"handbag\", \"tie\", \"suitcase\", \"frisbee\", \"skis\", \"snowboard\", \\\n",
    "          \"sports ball\", \"kite\", \"baseball bat\", \"baseball glove\", \"skateboard\", \"surfboard\", \\\n",
    "          \"tennis racket\", \"bottle\", \"wine glass\", \"cup\", \"fork\", \"knife\", \"spoon\", \"bowl\", \"banana\", \\\n",
    "          \"apple\", \"sandwich\", \"orange\", \"broccoli\", \"carrot\", \"hot dog\", \"pizza\", \"donut\", \"cake\", \\\n",
    "          \"chair\", \"sofa\", \"pottedplant\", \"bed\", \"diningtable\", \"toilet\", \"tvmonitor\", \"laptop\", \"mouse\", \\\n",
    "          \"remote\", \"keyboard\", \"cell phone\", \"microwave\", \"oven\", \"toaster\", \"sink\", \"refrigerator\", \\\n",
    "          \"book\", \"clock\", \"vase\", \"scissors\", \"teddy bear\", \"hair drier\", \"toothbrush\"]\n",
    "\n"
   ]
  },
  {
   "cell_type": "code",
   "execution_count": 83,
   "id": "07a853b6",
   "metadata": {},
   "outputs": [],
   "source": [
    "# preprocess the image\n",
    "image = cv2.imread(input_image_path)\n",
    "image_h, image_w, _ = image.shape\n",
    "new_image = yolov3.preprocess_input(image, net_h, net_w)"
   ]
  },
  {
   "cell_type": "code",
   "execution_count": 84,
   "id": "8400bb26",
   "metadata": {},
   "outputs": [
    {
     "name": "stdout",
     "output_type": "stream",
     "text": [
      "loading weights of convolution #0\n",
      "loading weights of convolution #1\n",
      "loading weights of convolution #2\n",
      "loading weights of convolution #3\n",
      "no convolution #4\n",
      "loading weights of convolution #5\n",
      "loading weights of convolution #6\n",
      "loading weights of convolution #7\n",
      "no convolution #8\n",
      "loading weights of convolution #9\n",
      "loading weights of convolution #10\n",
      "no convolution #11\n",
      "loading weights of convolution #12\n",
      "loading weights of convolution #13\n",
      "loading weights of convolution #14\n",
      "no convolution #15\n",
      "loading weights of convolution #16\n",
      "loading weights of convolution #17\n",
      "no convolution #18\n",
      "loading weights of convolution #19\n",
      "loading weights of convolution #20\n",
      "no convolution #21\n",
      "loading weights of convolution #22\n",
      "loading weights of convolution #23\n",
      "no convolution #24\n",
      "loading weights of convolution #25\n",
      "loading weights of convolution #26\n",
      "no convolution #27\n",
      "loading weights of convolution #28\n",
      "loading weights of convolution #29\n",
      "no convolution #30\n",
      "loading weights of convolution #31\n",
      "loading weights of convolution #32\n",
      "no convolution #33\n",
      "loading weights of convolution #34\n",
      "loading weights of convolution #35\n",
      "no convolution #36\n",
      "loading weights of convolution #37\n",
      "loading weights of convolution #38\n",
      "loading weights of convolution #39\n",
      "no convolution #40\n",
      "loading weights of convolution #41\n",
      "loading weights of convolution #42\n",
      "no convolution #43\n",
      "loading weights of convolution #44\n",
      "loading weights of convolution #45\n",
      "no convolution #46\n",
      "loading weights of convolution #47\n",
      "loading weights of convolution #48\n",
      "no convolution #49\n",
      "loading weights of convolution #50\n",
      "loading weights of convolution #51\n",
      "no convolution #52\n",
      "loading weights of convolution #53\n",
      "loading weights of convolution #54\n",
      "no convolution #55\n",
      "loading weights of convolution #56\n",
      "loading weights of convolution #57\n",
      "no convolution #58\n",
      "loading weights of convolution #59\n",
      "loading weights of convolution #60\n",
      "no convolution #61\n",
      "loading weights of convolution #62\n",
      "loading weights of convolution #63\n",
      "loading weights of convolution #64\n",
      "no convolution #65\n",
      "loading weights of convolution #66\n",
      "loading weights of convolution #67\n",
      "no convolution #68\n",
      "loading weights of convolution #69\n",
      "loading weights of convolution #70\n",
      "no convolution #71\n",
      "loading weights of convolution #72\n",
      "loading weights of convolution #73\n",
      "no convolution #74\n",
      "loading weights of convolution #75\n",
      "loading weights of convolution #76\n",
      "loading weights of convolution #77\n",
      "loading weights of convolution #78\n",
      "loading weights of convolution #79\n",
      "loading weights of convolution #80\n",
      "loading weights of convolution #81\n",
      "no convolution #82\n",
      "no convolution #83\n",
      "loading weights of convolution #84\n",
      "no convolution #85\n",
      "no convolution #86\n",
      "loading weights of convolution #87\n",
      "loading weights of convolution #88\n",
      "loading weights of convolution #89\n",
      "loading weights of convolution #90\n",
      "loading weights of convolution #91\n",
      "loading weights of convolution #92\n",
      "loading weights of convolution #93\n",
      "no convolution #94\n",
      "no convolution #95\n",
      "loading weights of convolution #96\n",
      "no convolution #97\n",
      "no convolution #98\n",
      "loading weights of convolution #99\n",
      "loading weights of convolution #100\n",
      "loading weights of convolution #101\n",
      "loading weights of convolution #102\n",
      "loading weights of convolution #103\n",
      "loading weights of convolution #104\n",
      "loading weights of convolution #105\n"
     ]
    }
   ],
   "source": [
    "# make the yolov3 model to predict 80 classes on COCO\n",
    "model = yolov3.make_yolov3_model()\n",
    "\n",
    "# load the weights trained on COCO into the model\n",
    "weight_reader = yolov3.WeightReader(weights_path)\n",
    "weight_reader.load_weights(model)"
   ]
  },
  {
   "cell_type": "code",
   "execution_count": 85,
   "id": "9b954363",
   "metadata": {},
   "outputs": [],
   "source": [
    "# run the prediction\n",
    "yolos = model.predict(new_image)"
   ]
  },
  {
   "cell_type": "code",
   "execution_count": 86,
   "id": "203fdfab",
   "metadata": {},
   "outputs": [
    {
     "name": "stdout",
     "output_type": "stream",
     "text": [
      "apple: 65.51755666732788%\n",
      "sandwich: 82.17741250991821%\n",
      "donut: 84.79660749435425%\n",
      "donut: 84.63027477264404%\n"
     ]
    },
    {
     "data": {
      "text/plain": [
       "array([[[ 13,   9,   4],\n",
       "        [ 13,   9,   4],\n",
       "        [ 13,   9,   4],\n",
       "        ...,\n",
       "        [121,  77,  24],\n",
       "        [121,  77,  24],\n",
       "        [121,  77,  24]],\n",
       "\n",
       "       [[ 13,   9,   4],\n",
       "        [ 13,   9,   4],\n",
       "        [ 13,   9,   4],\n",
       "        ...,\n",
       "        [121,  77,  24],\n",
       "        [121,  77,  24],\n",
       "        [121,  77,  24]],\n",
       "\n",
       "       [[ 13,   9,   4],\n",
       "        [ 13,   9,   4],\n",
       "        [ 13,   9,   4],\n",
       "        ...,\n",
       "        [121,  77,  24],\n",
       "        [121,  77,  24],\n",
       "        [121,  77,  24]],\n",
       "\n",
       "       ...,\n",
       "\n",
       "       [[  0,  24,  30],\n",
       "        [  1,  25,  31],\n",
       "        [  0,  26,  32],\n",
       "        ...,\n",
       "        [ 54,  65,  79],\n",
       "        [ 52,  65,  79],\n",
       "        [ 52,  65,  79]],\n",
       "\n",
       "       [[  2,  26,  32],\n",
       "        [  2,  26,  32],\n",
       "        [  0,  26,  32],\n",
       "        ...,\n",
       "        [ 53,  64,  78],\n",
       "        [ 51,  64,  78],\n",
       "        [ 51,  64,  78]],\n",
       "\n",
       "       [[  2,  26,  32],\n",
       "        [  3,  27,  33],\n",
       "        [  1,  27,  33],\n",
       "        ...,\n",
       "        [ 53,  64,  78],\n",
       "        [ 51,  64,  78],\n",
       "        [ 51,  64,  78]]], dtype=uint8)"
      ]
     },
     "execution_count": 86,
     "metadata": {},
     "output_type": "execute_result"
    }
   ],
   "source": [
    "boxes = []\n",
    "\n",
    "for i in range(len(yolos)):\n",
    "    # decode the output of the network\n",
    "    boxes += yolov3.decode_netout(yolos[i][0], anchors[i], obj_thresh, nms_thresh, net_h, net_w)\n",
    "\n",
    "# correct the sizes of the bounding boxes\n",
    "yolov3.correct_yolo_boxes(boxes, image_h, image_w, net_h, net_w)\n",
    "\n",
    "# suppress non-maximal boxes\n",
    "yolov3.do_nms(boxes, nms_thresh)     \n",
    "\n",
    "# draw bounding boxes on the image using labels\n",
    "yolov3.draw_boxes(image, boxes, labels, obj_thresh) "
   ]
  },
  {
   "cell_type": "code",
   "execution_count": 87,
   "id": "3ee6e9e9",
   "metadata": {},
   "outputs": [
    {
     "data": {
      "text/plain": [
       "True"
      ]
     },
     "execution_count": 87,
     "metadata": {},
     "output_type": "execute_result"
    }
   ],
   "source": [
    "# write out the resulting image with object annotations\n",
    "cv2.imwrite(output_image_path, (image).astype('uint8')) "
   ]
  }
 ],
 "metadata": {
  "kernelspec": {
   "display_name": "Python 3 (ipykernel)",
   "language": "python",
   "name": "python3"
  },
  "language_info": {
   "codemirror_mode": {
    "name": "ipython",
    "version": 3
   },
   "file_extension": ".py",
   "mimetype": "text/x-python",
   "name": "python",
   "nbconvert_exporter": "python",
   "pygments_lexer": "ipython3",
   "version": "3.10.4"
  }
 },
 "nbformat": 4,
 "nbformat_minor": 5
}
